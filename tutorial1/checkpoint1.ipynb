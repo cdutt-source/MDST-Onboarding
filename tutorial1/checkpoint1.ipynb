{
  "cells": [
    {
      "cell_type": "markdown",
      "metadata": {
        "id": "_Q2IyurQHmkL"
      },
      "source": [
        "# Checkpoint 1\n",
        "## (Do not remove any comments that start with\"# @@@\".)"
      ]
    },
    {
      "cell_type": "markdown",
      "metadata": {
        "id": "H-JxvXbsHmkO"
      },
      "source": [
        "Reminder:\n",
        "\n",
        "- You are being evaluated for completion and effort in this checkpoint.\n",
        "- Avoid manual labor / hard coding as much as possible, everything we've taught you so far are meant to simplify and automate your process.\n",
        "- Please do not remove any comment that starts with: \"# @@@\"."
      ]
    },
    {
      "cell_type": "markdown",
      "metadata": {
        "id": "e6wZ2olJHmkP"
      },
      "source": [
        "We will be working with the same `states_edu.csv` that you should already be familiar with from the tutorial.\n",
        "\n",
        "We investigated Grade 8 reading score in the tutorial. For this checkpoint, you are asked to investigate another test. Here's an overview:\n",
        "\n",
        "* Choose a specific response variable to focus on\n",
        ">Grade 4 Math, Grade 4 Reading, Grade 8 Math\n",
        "* Pick or create features to use\n",
        ">Will all the features be useful in predicting test score? Are some more important than others? Should you standardize, bin, or scale the data?\n",
        "* Explore the data as it relates to that test\n",
        ">Create at least 2 visualizations (graphs), each with a caption describing the graph and what it tells us about the data\n",
        "* Create training and testing data\n",
        ">Do you want to train on all the data? Only data from the last 10 years? Only Michigan data?\n",
        "* Train a ML model to predict outcome\n",
        ">Define what you want to predict, and pick a model in sklearn to use (see sklearn <a href=\"https://scikit-learn.org/stable/modules/linear_model.html\">regressors</a>).\n",
        "\n",
        "\n",
        "Include comments throughout your code! Every cleanup and preprocessing task should be documented.\n"
      ]
    },
    {
      "cell_type": "markdown",
      "metadata": {
        "id": "OtlEKUATHmkP"
      },
      "source": []
    },
    {
      "cell_type": "markdown",
      "metadata": {
        "id": "dHiNQDMFHmkP"
      },
      "source": [
        "<h2> Data Cleanup </h2>\n",
        "\n",
        "Import `numpy`, `pandas`, and `matplotlib`.\n",
        "\n",
        "(Feel free to import other libraries!)"
      ]
    },
    {
      "cell_type": "code",
      "execution_count": null,
      "metadata": {
        "id": "Ma2l2TFyHmkQ"
      },
      "outputs": [],
      "source": [
        "import numpy as np\n",
        "import pandas as pd\n",
        "import matplotlib.pyplot as plt"
      ]
    },
    {
      "cell_type": "markdown",
      "metadata": {
        "id": "W8Kh3pDeHmkQ"
      },
      "source": [
        "Load in the \"states_edu.csv\" dataset and take a look at the head of the data"
      ]
    },
    {
      "cell_type": "code",
      "execution_count": null,
      "metadata": {
        "id": "54UlsyU-HmkQ"
      },
      "outputs": [],
      "source": [
        "df = pd.read_csv('‘states_edu.csv’')"
      ]
    },
    {
      "cell_type": "markdown",
      "metadata": {
        "id": "bhgmeAGrHmkQ"
      },
      "source": [
        "You should always familiarize yourself with what each column in the dataframe represents. Read about the states_edu dataset here: https://www.kaggle.com/noriuk/us-education-datasets-unification-project"
      ]
    },
    {
      "cell_type": "markdown",
      "metadata": {
        "id": "Y8Fed2RmHmkR"
      },
      "source": [
        "Use this space to rename columns, deal with missing data, etc. _(optional)_"
      ]
    },
    {
      "cell_type": "code",
      "execution_count": null,
      "metadata": {
        "id": "ejcxNAObHmkR"
      },
      "outputs": [],
      "source": []
    },
    {
      "cell_type": "markdown",
      "metadata": {
        "id": "8gflKCleHmkR"
      },
      "source": [
        "<h2>Exploratory Data Analysis (EDA) </h2>"
      ]
    },
    {
      "cell_type": "code",
      "source": [
        "df.dropna(subset=['AVG_MATH_8_SCORE'], inplace=True)"
      ],
      "metadata": {
        "id": "tPAEXESdJ-qc"
      },
      "execution_count": null,
      "outputs": []
    },
    {
      "cell_type": "markdown",
      "metadata": {
        "id": "VizI-xliHmkR"
      },
      "source": [
        "Chosen one of Grade 4 Reading, Grade 4 Math, or Grade 8 Math to focus on: Grade 8 Math"
      ]
    },
    {
      "cell_type": "markdown",
      "metadata": {
        "id": "2AsQG3_CHmkR"
      },
      "source": [
        "How many years of data are logged in our dataset?"
      ]
    },
    {
      "cell_type": "code",
      "execution_count": null,
      "metadata": {
        "id": "x5dPLAq8HmkR",
        "colab": {
          "base_uri": "https://localhost:8080/"
        },
        "outputId": "51a5f7b4-cfda-4b2d-fcf4-226497595ffe"
      },
      "outputs": [
        {
          "output_type": "stream",
          "name": "stdout",
          "text": [
            "Data in Years: [1992 2000 2003 2005 2007 2009 2011 2013 2015 1990 2017 1996 2019]\n",
            "Number of Years: 13\n"
          ]
        }
      ],
      "source": [
        "# @@@ 1\n",
        "# Your Code\n",
        "years_in_dataset = df['YEAR'].unique()\n",
        "print(\"Data in Years:\", years_in_dataset)\n",
        "print(\"Number of Years:\", len(years_in_dataset))"
      ]
    },
    {
      "cell_type": "markdown",
      "metadata": {
        "id": "RB76fApEHmkS"
      },
      "source": [
        "Let's compare Michigan to Ohio. Which state has the higher average across all years in the test you chose?"
      ]
    },
    {
      "cell_type": "code",
      "execution_count": null,
      "metadata": {
        "id": "I9c0wKSCHmkS",
        "colab": {
          "base_uri": "https://localhost:8080/"
        },
        "outputId": "4405f8d4-724f-432b-d3fe-02f4347f91fd"
      },
      "outputs": [
        {
          "output_type": "stream",
          "name": "stdout",
          "text": [
            "MICHIGAN AVERAGE: 276.1666666666667\n",
            "OHIO AVERAGE: 282.25\n",
            "OHIO has a larger mean value than MICHIGAN.\n"
          ]
        }
      ],
      "source": [
        "# @@@ 2\n",
        "find_state_averages = df.groupby('STATE')['AVG_MATH_8_SCORE'].mean()\n",
        "\n",
        "michigan_average = find_state_averages['MICHIGAN']\n",
        "ohio_average = find_state_averages['OHIO']\n",
        "\n",
        "print(\"MICHIGAN AVERAGE:\", michigan_average)\n",
        "print(\"OHIO AVERAGE:\", ohio_average)\n",
        "\n",
        "if michigan_average > ohio_average:\n",
        "    print(\"MICHIGAN has a larger mean value than OHIO.\")\n",
        "if michigan_average < ohio_average:\n",
        "    print(\"OHIO has a larger mean value than MICHIGAN.\")"
      ]
    },
    {
      "cell_type": "markdown",
      "metadata": {
        "id": "wn7lLJJAHmkT"
      },
      "source": [
        "Find the average for your chosen test across all states in 2019"
      ]
    },
    {
      "cell_type": "code",
      "execution_count": null,
      "metadata": {
        "id": "Y7wPq6yPHmkT",
        "colab": {
          "base_uri": "https://localhost:8080/"
        },
        "outputId": "006e9a73-cb4c-4b89-c1c8-156dbac71b02"
      },
      "outputs": [
        {
          "output_type": "stream",
          "name": "stdout",
          "text": [
            "Average Math Grade 8 Score in 2019: 281.2641509433962\n"
          ]
        }
      ],
      "source": [
        "# @@@ 3\n",
        "average_math_grade_eight_2019 = df[df['YEAR'] == 2019]['AVG_MATH_8_SCORE'].mean()\n",
        "print(\"Average Math Grade 8 Score in 2019:\", average_math_grade_eight_2019)"
      ]
    },
    {
      "cell_type": "markdown",
      "metadata": {
        "id": "NO_cWOnJHmkT"
      },
      "source": [
        "For each state, find a maximum value for your chosen test score"
      ]
    },
    {
      "cell_type": "code",
      "execution_count": null,
      "metadata": {
        "id": "2r7zfMoOHmkT",
        "colab": {
          "base_uri": "https://localhost:8080/"
        },
        "outputId": "798a23ed-29a2-4ee1-e26c-a1854c2ef855"
      },
      "outputs": [
        {
          "output_type": "stream",
          "name": "stdout",
          "text": [
            "Maximum Value Per State:\n",
            "STATE\n",
            "ALABAMA                 269.0\n",
            "ALASKA                  283.0\n",
            "ARIZONA                 283.0\n",
            "ARKANSAS                279.0\n",
            "CALIFORNIA              277.0\n",
            "COLORADO                292.0\n",
            "CONNECTICUT             289.0\n",
            "DELAWARE                284.0\n",
            "DISTRICT_OF_COLUMBIA    269.0\n",
            "DODEA                   293.0\n",
            "FLORIDA                 281.0\n",
            "GEORGIA                 281.0\n",
            "HAWAII                  281.0\n",
            "IDAHO                   287.0\n",
            "ILLINOIS                285.0\n",
            "INDIANA                 288.0\n",
            "IOWA                    286.0\n",
            "KANSAS                  290.0\n",
            "KENTUCKY                282.0\n",
            "LOUISIANA               273.0\n",
            "MAINE                   289.0\n",
            "MARYLAND                288.0\n",
            "MASSACHUSETTS           301.0\n",
            "MICHIGAN                280.0\n",
            "MINNESOTA               295.0\n",
            "MISSISSIPPI             274.0\n",
            "MISSOURI                286.0\n",
            "MONTANA                 293.0\n",
            "NATIONAL                285.0\n",
            "NEBRASKA                288.0\n",
            "NEVADA                  278.0\n",
            "NEW_HAMPSHIRE           296.0\n",
            "NEW_JERSEY              296.0\n",
            "NEW_MEXICO              274.0\n",
            "NEW_YORK                283.0\n",
            "NORTH_CAROLINA          286.0\n",
            "NORTH_DAKOTA            293.0\n",
            "OHIO                    290.0\n",
            "OKLAHOMA                279.0\n",
            "OREGON                  285.0\n",
            "PENNSYLVANIA            290.0\n",
            "RHODE_ISLAND            284.0\n",
            "SOUTH_CAROLINA          282.0\n",
            "SOUTH_DAKOTA            291.0\n",
            "TENNESSEE               280.0\n",
            "TEXAS                   290.0\n",
            "UTAH                    287.0\n",
            "VERMONT                 295.0\n",
            "VIRGINIA                290.0\n",
            "WASHINGTON              290.0\n",
            "WEST_VIRGINIA           274.0\n",
            "WISCONSIN               289.0\n",
            "WYOMING                 289.0\n",
            "Name: AVG_MATH_8_SCORE, dtype: float64\n"
          ]
        }
      ],
      "source": [
        "# @@@ 4\n",
        "maximum_value_per_state_math_grade_eight = df.groupby('STATE')['AVG_MATH_8_SCORE'].max()\n",
        "print(\"Maximum Value Per State:\")\n",
        "print(maximum_value_per_state_math_grade_eight)"
      ]
    },
    {
      "cell_type": "markdown",
      "metadata": {
        "id": "kL_g1kAtHmkT"
      },
      "source": [
        "*Refer to the `Grouping and Aggregating` section in Tutorial 0 if you are stuck."
      ]
    },
    {
      "cell_type": "markdown",
      "metadata": {
        "id": "gOZFTHyHHmkT"
      },
      "source": [
        "<h2> Feature Engineering </h2>\n",
        "\n",
        "After exploring the data, you can choose to modify features that you would use to predict the performance of the students on your chosen response variable.\n",
        "\n",
        "You can also create your own features. For example, perhaps you figured that maybe a state's expenditure per student may affect their overall academic performance so you create a expenditure_per_student feature.\n",
        "\n",
        "Use this space to modify or create features."
      ]
    },
    {
      "cell_type": "code",
      "execution_count": null,
      "metadata": {
        "id": "8COE5IFjHmkT",
        "colab": {
          "base_uri": "https://localhost:8080/"
        },
        "outputId": "f8fd733f-e00e-462f-b7c9-de3baa093591"
      },
      "outputs": [
        {
          "output_type": "stream",
          "name": "stdout",
          "text": [
            "Average Expenditure Per Student Per State - Math Grade Eight:\n",
            "STATE\n",
            "ALABAMA                  9.072195\n",
            "ALASKA                  17.136268\n",
            "ARIZONA                  8.218995\n",
            "ARKANSAS                 9.560503\n",
            "CALIFORNIA              10.814855\n",
            "COLORADO                10.122061\n",
            "CONNECTICUT             15.872821\n",
            "DELAWARE                14.681299\n",
            "DISTRICT_OF_COLUMBIA    21.573498\n",
            "DODEA                         NaN\n",
            "FLORIDA                  9.830982\n",
            "GEORGIA                  9.951223\n",
            "HAWAII                  11.235035\n",
            "IDAHO                    7.166621\n",
            "ILLINOIS                12.256986\n",
            "INDIANA                 10.585435\n",
            "IOWA                    11.404315\n",
            "KANSAS                  10.280909\n",
            "KENTUCKY                 9.402146\n",
            "LOUISIANA               10.183108\n",
            "MAINE                   12.634922\n",
            "MARYLAND                13.203709\n",
            "MASSACHUSETTS           14.860576\n",
            "MICHIGAN                12.012834\n",
            "MINNESOTA               12.412121\n",
            "MISSISSIPPI              8.083702\n",
            "MISSOURI                10.063043\n",
            "MONTANA                 10.105516\n",
            "NATIONAL                      NaN\n",
            "NEBRASKA                11.023010\n",
            "NEVADA                   9.260828\n",
            "NEW_HAMPSHIRE           13.844439\n",
            "NEW_JERSEY              18.639667\n",
            "NEW_MEXICO               9.994913\n",
            "NEW_YORK                19.029182\n",
            "NORTH_CAROLINA           8.841472\n",
            "NORTH_DAKOTA            11.756649\n",
            "OHIO                    12.055946\n",
            "OKLAHOMA                 8.131596\n",
            "OREGON                  10.494805\n",
            "PENNSYLVANIA            15.596169\n",
            "RHODE_ISLAND            13.742098\n",
            "SOUTH_CAROLINA          10.337320\n",
            "SOUTH_DAKOTA             9.626368\n",
            "TENNESSEE                8.243709\n",
            "TEXAS                   10.035299\n",
            "UTAH                     7.134385\n",
            "VERMONT                 18.428325\n",
            "VIRGINIA                11.100153\n",
            "WASHINGTON              10.825369\n",
            "WEST_VIRGINIA           10.722429\n",
            "WISCONSIN               12.071754\n",
            "WYOMING                 15.564879\n",
            "Name: EXPENDITURE_PER_STUDENT, dtype: float64\n"
          ]
        }
      ],
      "source": [
        "# @@@ 5\n",
        "# Code for finding the average expenditure per student for each state to take math grade eight examinations\n",
        "state_expenditures = df.groupby(\"STATE\")[\"EXPENDITURE_PER_STUDENT\"].mean()\n",
        "print(\"Average Expenditure Per Student Per State - Math Grade Eight:\")\n",
        "print(state_expenditures)"
      ]
    },
    {
      "cell_type": "markdown",
      "metadata": {
        "id": "WLQ71dXKHmkT"
      },
      "source": [
        "Feature engineering justification: I decided to create my own feature as opposed to modify an old one because I was curious to see which state was spending the most money on its student body to take the examinations. In order to do this, I set a variable equal to the data frame that would find the average amount each state spends on its expenditures for its students to take the grade eight math examinations. And then, in order to visibly have the values printed when I run the code, I added \"print(state_expenditures)\" to the end of the code."
      ]
    },
    {
      "cell_type": "markdown",
      "metadata": {
        "id": "l52CkfA5HmkU"
      },
      "source": [
        "<h2>Visualization</h2>\n",
        "\n",
        "Investigate the relationship between your chosen response variable and at least two predictors using visualizations. Write down your observations.\n",
        "\n",
        "**Visualization 1**"
      ]
    },
    {
      "cell_type": "code",
      "execution_count": null,
      "metadata": {
        "id": "c8KXJdTCHmkU",
        "colab": {
          "base_uri": "https://localhost:8080/",
          "height": 472
        },
        "outputId": "d15d1baa-9298-45f2-9a76-81fce74ddf4c"
      },
      "outputs": [
        {
          "output_type": "display_data",
          "data": {
            "text/plain": [
              "<Figure size 640x480 with 1 Axes>"
            ],
            "image/png": "[encoded data removed]"
          },
          "metadata": {}
        }
      ],
      "source": [
        "# @@@ 6\n",
        "# Drop rows with missing values in the columns needed for plotting\n",
        "df_plot = df.dropna(subset=['EXPENDITURE_PER_STUDENT', 'AVG_MATH_8_SCORE']).copy()\n",
        "\n",
        "# Create the scatter plot\n",
        "df_plot.plot.scatter(x=\"EXPENDITURE_PER_STUDENT\",\n",
        "                     y=\"AVG_MATH_8_SCORE\",\n",
        "                     title = \"Expenditure Per Student versus Average Math Grade 8 Score\")\n",
        "plt.show()"
      ]
    },
    {
      "cell_type": "markdown",
      "metadata": {
        "id": "qJzS6hL8HmkU"
      },
      "source": [
        "Eight Grade Math Scores Per Amount of Expenditures"
      ]
    },
    {
      "cell_type": "markdown",
      "metadata": {
        "id": "6U12uYodHmkU"
      },
      "source": [
        "**Visualization 2**"
      ]
    },
    {
      "cell_type": "code",
      "execution_count": null,
      "metadata": {
        "id": "g6GSE397HmkU",
        "colab": {
          "base_uri": "https://localhost:8080/",
          "height": 452
        },
        "outputId": "08a5f471-fd1b-435e-c5d1-7367a440fedb"
      },
      "outputs": [
        {
          "output_type": "display_data",
          "data": {
            "text/plain": [
              "<Figure size 640x480 with 1 Axes>"
            ],
            "image/png": "[encoded data removed]"
          },
          "metadata": {}
        }
      ],
      "source": [
        "# @@@ 7\n",
        "# Use the previously calculated averages for Michigan and Ohio\n",
        "plt.bar([\"MICHIGAN\", \"OHIO\"], [michigan_average, ohio_average])\n",
        "plt.ylabel(\"Average Math Grade 8 Score\")\n",
        "plt.title(\"Average Math Grade 8 Score in Michigan vs Ohio\")\n",
        "plt.show()"
      ]
    },
    {
      "cell_type": "markdown",
      "metadata": {
        "id": "0roReFv1HmkU"
      },
      "source": [
        "**Grade Eight Mathematics Scores: Michigan versus Ohio**"
      ]
    },
    {
      "cell_type": "markdown",
      "metadata": {
        "id": "BOd1GGi2HmkU"
      },
      "source": [
        "<h2> Data Creation </h2>\n",
        "\n",
        "_Use this space to create train/test data_"
      ]
    },
    {
      "cell_type": "code",
      "execution_count": null,
      "metadata": {
        "id": "vDTx3lCbHmkV"
      },
      "outputs": [],
      "source": [
        "from sklearn.model_selection import train_test_split"
      ]
    },
    {
      "cell_type": "code",
      "execution_count": null,
      "metadata": {
        "id": "wwxPlykSHmkV"
      },
      "outputs": [],
      "source": [
        "# @@@ 8\n",
        "df_model = df.dropna(subset=['EXPENDITURE_PER_STUDENT', 'AVG_MATH_8_SCORE']).copy()\n",
        "\n",
        "X = df_model[['EXPENDITURE_PER_STUDENT']]\n",
        "y = df_model['AVG_MATH_8_SCORE']"
      ]
    },
    {
      "cell_type": "code",
      "execution_count": null,
      "metadata": {
        "id": "kM3H_1-vHmkV"
      },
      "outputs": [],
      "source": [
        "# @@@ 9\n",
        "X_train, X_test, y_train, y_test = train_test_split(\n",
        "     X, y, test_size=0.2, random_state=42)"
      ]
    },
    {
      "cell_type": "markdown",
      "metadata": {
        "id": "FXpO1HUWHmkV"
      },
      "source": [
        "<h2> Prediction </h2>"
      ]
    },
    {
      "cell_type": "markdown",
      "metadata": {
        "id": "a9LvRTt3HmkV"
      },
      "source": [
        "ML Models [Resource](https://medium.com/@vijaya.beeravalli/comparison-of-machine-learning-classification-models-for-credit-card-default-data-c3cf805c9a5a)"
      ]
    },
    {
      "cell_type": "code",
      "execution_count": null,
      "metadata": {
        "id": "be9ojT8VHmkW"
      },
      "outputs": [],
      "source": [
        "# @@@ 10\n",
        "# import your sklearn class here\n",
        "from sklearn.linear_model import LinearRegression"
      ]
    },
    {
      "cell_type": "code",
      "execution_count": null,
      "metadata": {
        "id": "Vb9Q4It4HmkW"
      },
      "outputs": [],
      "source": [
        "# @@@ 11\n",
        "# create your model here\n",
        "model = LinearRegression()"
      ]
    },
    {
      "cell_type": "code",
      "execution_count": null,
      "metadata": {
        "id": "57ogi15DHmkW",
        "colab": {
          "base_uri": "https://localhost:8080/",
          "height": 80
        },
        "outputId": "76131db1-6375-410a-f211-33d8ff24e087"
      },
      "outputs": [
        {
          "output_type": "execute_result",
          "data": {
            "text/plain": [
              "LinearRegression()"
            ],
            "text/html": [
              "<style>#sk-container-id-2 {\n",
              "  /* Definition of color scheme common for light and dark mode */\n",
              "  --sklearn-color-text: #000;\n",
              "  --sklearn-color-text-muted: #666;\n",
              "  --sklearn-color-line: gray;\n",
              "  /* Definition of color scheme for unfitted estimators */\n",
              "  --sklearn-color-unfitted-level-0: #fff5e6;\n",
              "  --sklearn-color-unfitted-level-1: #f6e4d2;\n",
              "  --sklearn-color-unfitted-level-2: #ffe0b3;\n",
              "  --sklearn-color-unfitted-level-3: chocolate;\n",
              "  /* Definition of color scheme for fitted estimators */\n",
              "  --sklearn-color-fitted-level-0: #f0f8ff;\n",
              "  --sklearn-color-fitted-level-1: #d4ebff;\n",
              "  --sklearn-color-fitted-level-2: #b3dbfd;\n",
              "  --sklearn-color-fitted-level-3: cornflowerblue;\n",
              "\n",
              "  /* Specific color for light theme */\n",
              "  --sklearn-color-text-on-default-background: var(--sg-text-color, var(--theme-code-foreground, var(--jp-content-font-color1, black)));\n",
              "  --sklearn-color-background: var(--sg-background-color, var(--theme-background, var(--jp-layout-color0, white)));\n",
              "  --sklearn-color-border-box: var(--sg-text-color, var(--theme-code-foreground, var(--jp-content-font-color1, black)));\n",
              "  --sklearn-color-icon: #696969;\n",
              "\n",
              "  @media (prefers-color-scheme: dark) {\n",
              "    /* Redefinition of color scheme for dark theme */\n",
              "    --sklearn-color-text-on-default-background: var(--sg-text-color, var(--theme-code-foreground, var(--jp-content-font-color1, white)));\n",
              "    --sklearn-color-background: var(--sg-background-color, var(--theme-background, var(--jp-layout-color0, #111)));\n",
              "    --sklearn-color-border-box: var(--sg-text-color, var(--theme-code-foreground, var(--jp-content-font-color1, white)));\n",
              "    --sklearn-color-icon: #878787;\n",
              "  }\n",
              "}\n",
              "\n",
              "#sk-container-id-2 {\n",
              "  color: var(--sklearn-color-text);\n",
              "}\n",
              "\n",
              "#sk-container-id-2 pre {\n",
              "  padding: 0;\n",
              "}\n",
              "\n",
              "#sk-container-id-2 input.sk-hidden--visually {\n",
              "  border: 0;\n",
              "  clip: rect(1px 1px 1px 1px);\n",
              "  clip: rect(1px, 1px, 1px, 1px);\n",
              "  height: 1px;\n",
              "  margin: -1px;\n",
              "  overflow: hidden;\n",
              "  padding: 0;\n",
              "  position: absolute;\n",
              "  width: 1px;\n",
              "}\n",
              "\n",
              "#sk-container-id-2 div.sk-dashed-wrapped {\n",
              "  border: 1px dashed var(--sklearn-color-line);\n",
              "  margin: 0 0.4em 0.5em 0.4em;\n",
              "  box-sizing: border-box;\n",
              "  padding-bottom: 0.4em;\n",
              "  background-color: var(--sklearn-color-background);\n",
              "}\n",
              "\n",
              "#sk-container-id-2 div.sk-container {\n",
              "  /* jupyter's `normalize.less` sets `[hidden] { display: none; }`\n",
              "     but bootstrap.min.css set `[hidden] { display: none !important; }`\n",
              "     so we also need the `!important` here to be able to override the\n",
              "     default hidden behavior on the sphinx rendered scikit-learn.org.\n",
              "     See: https://github.com/scikit-learn/scikit-learn/issues/21755 */\n",
              "  display: inline-block !important;\n",
              "  position: relative;\n",
              "}\n",
              "\n",
              "#sk-container-id-2 div.sk-text-repr-fallback {\n",
              "  display: none;\n",
              "}\n",
              "\n",
              "div.sk-parallel-item,\n",
              "div.sk-serial,\n",
              "div.sk-item {\n",
              "  /* draw centered vertical line to link estimators */\n",
              "  background-image: linear-gradient(var(--sklearn-color-text-on-default-background), var(--sklearn-color-text-on-default-background));\n",
              "  background-size: 2px 100%;\n",
              "  background-repeat: no-repeat;\n",
              "  background-position: center center;\n",
              "}\n",
              "\n",
              "/* Parallel-specific style estimator block */\n",
              "\n",
              "#sk-container-id-2 div.sk-parallel-item::after {\n",
              "  content: \"\";\n",
              "  width: 100%;\n",
              "  border-bottom: 2px solid var(--sklearn-color-text-on-default-background);\n",
              "  flex-grow: 1;\n",
              "}\n",
              "\n",
              "#sk-container-id-2 div.sk-parallel {\n",
              "  display: flex;\n",
              "  align-items: stretch;\n",
              "  justify-content: center;\n",
              "  background-color: var(--sklearn-color-background);\n",
              "  position: relative;\n",
              "}\n",
              "\n",
              "#sk-container-id-2 div.sk-parallel-item {\n",
              "  display: flex;\n",
              "  flex-direction: column;\n",
              "}\n",
              "\n",
              "#sk-container-id-2 div.sk-parallel-item:first-child::after {\n",
              "  align-self: flex-end;\n",
              "  width: 50%;\n",
              "}\n",
              "\n",
              "#sk-container-id-2 div.sk-parallel-item:last-child::after {\n",
              "  align-self: flex-start;\n",
              "  width: 50%;\n",
              "}\n",
              "\n",
              "#sk-container-id-2 div.sk-parallel-item:only-child::after {\n",
              "  width: 0;\n",
              "}\n",
              "\n",
              "/* Serial-specific style estimator block */\n",
              "\n",
              "#sk-container-id-2 div.sk-serial {\n",
              "  display: flex;\n",
              "  flex-direction: column;\n",
              "  align-items: center;\n",
              "  background-color: var(--sklearn-color-background);\n",
              "  padding-right: 1em;\n",
              "  padding-left: 1em;\n",
              "}\n",
              "\n",
              "\n",
              "/* Toggleable style: style used for estimator/Pipeline/ColumnTransformer box that is\n",
              "clickable and can be expanded/collapsed.\n",
              "- Pipeline and ColumnTransformer use this feature and define the default style\n",
              "- Estimators will overwrite some part of the style using the `sk-estimator` class\n",
              "*/\n",
              "\n",
              "/* Pipeline and ColumnTransformer style (default) */\n",
              "\n",
              "#sk-container-id-2 div.sk-toggleable {\n",
              "  /* Default theme specific background. It is overwritten whether we have a\n",
              "  specific estimator or a Pipeline/ColumnTransformer */\n",
              "  background-color: var(--sklearn-color-background);\n",
              "}\n",
              "\n",
              "/* Toggleable label */\n",
              "#sk-container-id-2 label.sk-toggleable__label {\n",
              "  cursor: pointer;\n",
              "  display: flex;\n",
              "  width: 100%;\n",
              "  margin-bottom: 0;\n",
              "  padding: 0.5em;\n",
              "  box-sizing: border-box;\n",
              "  text-align: center;\n",
              "  align-items: start;\n",
              "  justify-content: space-between;\n",
              "  gap: 0.5em;\n",
              "}\n",
              "\n",
              "#sk-container-id-2 label.sk-toggleable__label .caption {\n",
              "  font-size: 0.6rem;\n",
              "  font-weight: lighter;\n",
              "  color: var(--sklearn-color-text-muted);\n",
              "}\n",
              "\n",
              "#sk-container-id-2 label.sk-toggleable__label-arrow:before {\n",
              "  /* Arrow on the left of the label */\n",
              "  content: \"▸\";\n",
              "  float: left;\n",
              "  margin-right: 0.25em;\n",
              "  color: var(--sklearn-color-icon);\n",
              "}\n",
              "\n",
              "#sk-container-id-2 label.sk-toggleable__label-arrow:hover:before {\n",
              "  color: var(--sklearn-color-text);\n",
              "}\n",
              "\n",
              "/* Toggleable content - dropdown */\n",
              "\n",
              "#sk-container-id-2 div.sk-toggleable__content {\n",
              "  max-height: 0;\n",
              "  max-width: 0;\n",
              "  overflow: hidden;\n",
              "  text-align: left;\n",
              "  /* unfitted */\n",
              "  background-color: var(--sklearn-color-unfitted-level-0);\n",
              "}\n",
              "\n",
              "#sk-container-id-2 div.sk-toggleable__content.fitted {\n",
              "  /* fitted */\n",
              "  background-color: var(--sklearn-color-fitted-level-0);\n",
              "}\n",
              "\n",
              "#sk-container-id-2 div.sk-toggleable__content pre {\n",
              "  margin: 0.2em;\n",
              "  border-radius: 0.25em;\n",
              "  color: var(--sklearn-color-text);\n",
              "  /* unfitted */\n",
              "  background-color: var(--sklearn-color-unfitted-level-0);\n",
              "}\n",
              "\n",
              "#sk-container-id-2 div.sk-toggleable__content.fitted pre {\n",
              "  /* unfitted */\n",
              "  background-color: var(--sklearn-color-fitted-level-0);\n",
              "}\n",
              "\n",
              "#sk-container-id-2 input.sk-toggleable__control:checked~div.sk-toggleable__content {\n",
              "  /* Expand drop-down */\n",
              "  max-height: 200px;\n",
              "  max-width: 100%;\n",
              "  overflow: auto;\n",
              "}\n",
              "\n",
              "#sk-container-id-2 input.sk-toggleable__control:checked~label.sk-toggleable__label-arrow:before {\n",
              "  content: \"▾\";\n",
              "}\n",
              "\n",
              "/* Pipeline/ColumnTransformer-specific style */\n",
              "\n",
              "#sk-container-id-2 div.sk-label input.sk-toggleable__control:checked~label.sk-toggleable__label {\n",
              "  color: var(--sklearn-color-text);\n",
              "  background-color: var(--sklearn-color-unfitted-level-2);\n",
              "}\n",
              "\n",
              "#sk-container-id-2 div.sk-label.fitted input.sk-toggleable__control:checked~label.sk-toggleable__label {\n",
              "  background-color: var(--sklearn-color-fitted-level-2);\n",
              "}\n",
              "\n",
              "/* Estimator-specific style */\n",
              "\n",
              "/* Colorize estimator box */\n",
              "#sk-container-id-2 div.sk-estimator input.sk-toggleable__control:checked~label.sk-toggleable__label {\n",
              "  /* unfitted */\n",
              "  background-color: var(--sklearn-color-unfitted-level-2);\n",
              "}\n",
              "\n",
              "#sk-container-id-2 div.sk-estimator.fitted input.sk-toggleable__control:checked~label.sk-toggleable__label {\n",
              "  /* fitted */\n",
              "  background-color: var(--sklearn-color-fitted-level-2);\n",
              "}\n",
              "\n",
              "#sk-container-id-2 div.sk-label label.sk-toggleable__label,\n",
              "#sk-container-id-2 div.sk-label label {\n",
              "  /* The background is the default theme color */\n",
              "  color: var(--sklearn-color-text-on-default-background);\n",
              "}\n",
              "\n",
              "/* On hover, darken the color of the background */\n",
              "#sk-container-id-2 div.sk-label:hover label.sk-toggleable__label {\n",
              "  color: var(--sklearn-color-text);\n",
              "  background-color: var(--sklearn-color-unfitted-level-2);\n",
              "}\n",
              "\n",
              "/* Label box, darken color on hover, fitted */\n",
              "#sk-container-id-2 div.sk-label.fitted:hover label.sk-toggleable__label.fitted {\n",
              "  color: var(--sklearn-color-text);\n",
              "  background-color: var(--sklearn-color-fitted-level-2);\n",
              "}\n",
              "\n",
              "/* Estimator label */\n",
              "\n",
              "#sk-container-id-2 div.sk-label label {\n",
              "  font-family: monospace;\n",
              "  font-weight: bold;\n",
              "  display: inline-block;\n",
              "  line-height: 1.2em;\n",
              "}\n",
              "\n",
              "#sk-container-id-2 div.sk-label-container {\n",
              "  text-align: center;\n",
              "}\n",
              "\n",
              "/* Estimator-specific */\n",
              "#sk-container-id-2 div.sk-estimator {\n",
              "  font-family: monospace;\n",
              "  border: 1px dotted var(--sklearn-color-border-box);\n",
              "  border-radius: 0.25em;\n",
              "  box-sizing: border-box;\n",
              "  margin-bottom: 0.5em;\n",
              "  /* unfitted */\n",
              "  background-color: var(--sklearn-color-unfitted-level-0);\n",
              "}\n",
              "\n",
              "#sk-container-id-2 div.sk-estimator.fitted {\n",
              "  /* fitted */\n",
              "  background-color: var(--sklearn-color-fitted-level-0);\n",
              "}\n",
              "\n",
              "/* on hover */\n",
              "#sk-container-id-2 div.sk-estimator:hover {\n",
              "  /* unfitted */\n",
              "  background-color: var(--sklearn-color-unfitted-level-2);\n",
              "}\n",
              "\n",
              "#sk-container-id-2 div.sk-estimator.fitted:hover {\n",
              "  /* fitted */\n",
              "  background-color: var(--sklearn-color-fitted-level-2);\n",
              "}\n",
              "\n",
              "/* Specification for estimator info (e.g. \"i\" and \"?\") */\n",
              "\n",
              "/* Common style for \"i\" and \"?\" */\n",
              "\n",
              ".sk-estimator-doc-link,\n",
              "a:link.sk-estimator-doc-link,\n",
              "a:visited.sk-estimator-doc-link {\n",
              "  float: right;\n",
              "  font-size: smaller;\n",
              "  line-height: 1em;\n",
              "  font-family: monospace;\n",
              "  background-color: var(--sklearn-color-background);\n",
              "  border-radius: 1em;\n",
              "  height: 1em;\n",
              "  width: 1em;\n",
              "  text-decoration: none !important;\n",
              "  margin-left: 0.5em;\n",
              "  text-align: center;\n",
              "  /* unfitted */\n",
              "  border: var(--sklearn-color-unfitted-level-1) 1pt solid;\n",
              "  color: var(--sklearn-color-unfitted-level-1);\n",
              "}\n",
              "\n",
              ".sk-estimator-doc-link.fitted,\n",
              "a:link.sk-estimator-doc-link.fitted,\n",
              "a:visited.sk-estimator-doc-link.fitted {\n",
              "  /* fitted */\n",
              "  border: var(--sklearn-color-fitted-level-1) 1pt solid;\n",
              "  color: var(--sklearn-color-fitted-level-1);\n",
              "}\n",
              "\n",
              "/* On hover */\n",
              "div.sk-estimator:hover .sk-estimator-doc-link:hover,\n",
              ".sk-estimator-doc-link:hover,\n",
              "div.sk-label-container:hover .sk-estimator-doc-link:hover,\n",
              ".sk-estimator-doc-link:hover {\n",
              "  /* unfitted */\n",
              "  background-color: var(--sklearn-color-unfitted-level-3);\n",
              "  color: var(--sklearn-color-background);\n",
              "  text-decoration: none;\n",
              "}\n",
              "\n",
              "div.sk-estimator.fitted:hover .sk-estimator-doc-link.fitted:hover,\n",
              ".sk-estimator-doc-link.fitted:hover,\n",
              "div.sk-label-container:hover .sk-estimator-doc-link.fitted:hover,\n",
              ".sk-estimator-doc-link.fitted:hover {\n",
              "  /* fitted */\n",
              "  background-color: var(--sklearn-color-fitted-level-3);\n",
              "  color: var(--sklearn-color-background);\n",
              "  text-decoration: none;\n",
              "}\n",
              "\n",
              "/* Span, style for the box shown on hovering the info icon */\n",
              ".sk-estimator-doc-link span {\n",
              "  display: none;\n",
              "  z-index: 9999;\n",
              "  position: relative;\n",
              "  font-weight: normal;\n",
              "  right: .2ex;\n",
              "  padding: .5ex;\n",
              "  margin: .5ex;\n",
              "  width: min-content;\n",
              "  min-width: 20ex;\n",
              "  max-width: 50ex;\n",
              "  color: var(--sklearn-color-text);\n",
              "  box-shadow: 2pt 2pt 4pt #999;\n",
              "  /* unfitted */\n",
              "  background: var(--sklearn-color-unfitted-level-0);\n",
              "  border: .5pt solid var(--sklearn-color-unfitted-level-3);\n",
              "}\n",
              "\n",
              ".sk-estimator-doc-link.fitted span {\n",
              "  /* fitted */\n",
              "  background: var(--sklearn-color-fitted-level-0);\n",
              "  border: var(--sklearn-color-fitted-level-3);\n",
              "}\n",
              "\n",
              ".sk-estimator-doc-link:hover span {\n",
              "  display: block;\n",
              "}\n",
              "\n",
              "/* \"?\"-specific style due to the `<a>` HTML tag */\n",
              "\n",
              "#sk-container-id-2 a.estimator_doc_link {\n",
              "  float: right;\n",
              "  font-size: 1rem;\n",
              "  line-height: 1em;\n",
              "  font-family: monospace;\n",
              "  background-color: var(--sklearn-color-background);\n",
              "  border-radius: 1rem;\n",
              "  height: 1rem;\n",
              "  width: 1rem;\n",
              "  text-decoration: none;\n",
              "  /* unfitted */\n",
              "  color: var(--sklearn-color-unfitted-level-1);\n",
              "  border: var(--sklearn-color-unfitted-level-1) 1pt solid;\n",
              "}\n",
              "\n",
              "#sk-container-id-2 a.estimator_doc_link.fitted {\n",
              "  /* fitted */\n",
              "  border: var(--sklearn-color-fitted-level-1) 1pt solid;\n",
              "  color: var(--sklearn-color-fitted-level-1);\n",
              "}\n",
              "\n",
              "/* On hover */\n",
              "#sk-container-id-2 a.estimator_doc_link:hover {\n",
              "  /* unfitted */\n",
              "  background-color: var(--sklearn-color-unfitted-level-3);\n",
              "  color: var(--sklearn-color-background);\n",
              "  text-decoration: none;\n",
              "}\n",
              "\n",
              "#sk-container-id-2 a.estimator_doc_link.fitted:hover {\n",
              "  /* fitted */\n",
              "  background-color: var(--sklearn-color-fitted-level-3);\n",
              "}\n",
              "</style><div id=\"sk-container-id-2\" class=\"sk-top-container\"><div class=\"sk-text-repr-fallback\"><pre>LinearRegression()</pre><b>In a Jupyter environment, please rerun this cell to show the HTML representation or trust the notebook. <br />On GitHub, the HTML representation is unable to render, please try loading this page with nbviewer.org.</b></div><div class=\"sk-container\" hidden><div class=\"sk-item\"><div class=\"sk-estimator fitted sk-toggleable\"><input class=\"sk-toggleable__control sk-hidden--visually\" id=\"sk-estimator-id-2\" type=\"checkbox\" checked><label for=\"sk-estimator-id-2\" class=\"sk-toggleable__label fitted sk-toggleable__label-arrow\"><div><div>LinearRegression</div></div><div><a class=\"sk-estimator-doc-link fitted\" rel=\"noreferrer\" target=\"_blank\" href=\"https://scikit-learn.org/1.6/modules/generated/sklearn.linear_model.LinearRegression.html\">?<span>Documentation for LinearRegression</span></a><span class=\"sk-estimator-doc-link fitted\">i<span>Fitted</span></span></div></label><div class=\"sk-toggleable__content fitted\"><pre>LinearRegression()</pre></div> </div></div></div></div>"
            ]
          },
          "metadata": {},
          "execution_count": 106
        }
      ],
      "source": [
        "model.fit(X_train, y_train)"
      ]
    },
    {
      "cell_type": "code",
      "execution_count": null,
      "metadata": {
        "id": "i8J4UHU8HmkX"
      },
      "outputs": [],
      "source": [
        "y_pred = model.predict(X_test)"
      ]
    },
    {
      "cell_type": "markdown",
      "metadata": {
        "id": "t4OMro5THmkX"
      },
      "source": [
        "## Evaluation"
      ]
    },
    {
      "cell_type": "markdown",
      "metadata": {
        "id": "wfzdUA2JHmkX"
      },
      "source": [
        "Choose some metrics to evaluate the performance of your model, some of them are mentioned in the tutorial."
      ]
    },
    {
      "cell_type": "code",
      "execution_count": null,
      "metadata": {
        "id": "0ppMLAtwHmkX",
        "colab": {
          "base_uri": "https://localhost:8080/"
        },
        "outputId": "8fd283d2-77b9-4f7c-ee8c-1ba58a3b34c0"
      },
      "outputs": [
        {
          "output_type": "stream",
          "name": "stdout",
          "text": [
            "Mean Squared Error: 83.52440300543458\n",
            "Mean Absolute Error: 6.53717427274275\n",
            "Root Mean Squared Error: 9.139168616752542\n"
          ]
        }
      ],
      "source": [
        "# @@@ 12\n",
        "# Mean Squared Error\n",
        "mse = np.mean((model.predict(X_test) - y_test) ** 2)\n",
        "print(\"Mean Squared Error:\", mse)\n",
        "\n",
        "\n",
        "# Mean Average Error\n",
        "mae = np.mean(np.abs(model.predict(X_test) - y_test))\n",
        "print(\"Mean Absolute Error:\", mae)\n",
        "\n",
        "# Root Mean Squared Error\n",
        "rmse = np.mean((model.predict(X_test) - y_test) ** 2) ** 0.5\n",
        "print(\"Root Mean Squared Error:\", rmse)"
      ]
    },
    {
      "cell_type": "markdown",
      "metadata": {
        "id": "TCZOepA-HmkX"
      },
      "source": [
        "We have copied over the graphs that visualize the model's performance on the training and testing set.\n",
        "\n",
        "Change `col_name` and modify the call to `plt.ylabel()` to isolate how a single predictor affects the model."
      ]
    },
    {
      "cell_type": "code",
      "execution_count": null,
      "metadata": {
        "id": "solsiCCSHmkY"
      },
      "outputs": [],
      "source": [
        "# @@@ 13\n",
        "\n",
        "col_name = \"EXPENDITURE_PER_STUDENT\"\n",
        "\n",
        "\n",
        "# f = plt.figure(figsize=(12,6))\n",
        "# plt.scatter(X_train[col_name], y_train, color = \"red\")\n",
        "# plt.scatter(X_train[col_name], model.predict(X_train), color = \"green\")\n",
        "\n",
        "# plt.legend(['True Training','Predicted Training'])\n",
        "# plt.xlabel(col_name)\n",
        "# plt.ylabel('Grade Eight Mathematics Examination Scores')\n",
        "# plt.title(\"Model Behavior On Training Set\")"
      ]
    },
    {
      "cell_type": "code",
      "execution_count": null,
      "metadata": {
        "id": "_gF1w6oaHmkY"
      },
      "outputs": [],
      "source": [
        "# @@@ 14\n",
        "\n",
        "\n",
        "# col_name = 'EXPENDITURE_PER_STUDENT'\n",
        "\n",
        "\n",
        "# f = plt.figure(figsize=(12,6))\n",
        "# plt.scatter(X_test[col_name], y_test, color = \"blue\")\n",
        "# plt.scatter(X_test[col_name], model.predict(X_test), color = \"black\")\n",
        "\n",
        "# plt.legend(['True testing','Predicted testing'])\n",
        "# plt.xlabel(col_name)\n",
        "# plt.ylabel('Grade Eight Math Scores')\n",
        "# plt.title(\"Model Behavior on Testing Set\")"
      ]
    }
  ],
  "metadata": {
    "kernelspec": {
      "display_name": "Python 3.9.0 64-bit",
      "language": "python",
      "name": "python3"
    },
    "language_info": {
      "codemirror_mode": {
        "name": "ipython",
        "version": 3
      },
      "file_extension": ".py",
      "mimetype": "text/x-python",
      "name": "python",
      "nbconvert_exporter": "python",
      "pygments_lexer": "ipython3",
      "version": "3.9.0"
    },
    "vscode": {
      "interpreter": {
        "hash": "6cf8df3ff69f85f626faf55c10df6fe2cb9d1236b4dc73844ee4dc01369c2c99"
      }
    },
    "colab": {
      "provenance": []
    }
  },
  "nbformat": 4,
  "nbformat_minor": 0
}